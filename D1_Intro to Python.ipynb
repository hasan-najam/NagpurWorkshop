{
 "cells": [
  {
   "cell_type": "markdown",
   "id": "56f503f9",
   "metadata": {},
   "source": [
    "# TP1: Day1"
   ]
  },
  {
   "attachments": {
    "python1.jpeg": {
     "image/jpeg": "[encoded data removed]"
    }
   },
   "cell_type": "markdown",
   "id": "239bca60",
   "metadata": {},
   "source": [
    "\n",
    "![python1.jpeg](attachment:python1.jpeg)\n"
   ]
  },
  {
   "cell_type": "markdown",
   "id": "111796aa",
   "metadata": {},
   "source": [
    "# Introduction to Python and Jupyter Notebooks"
   ]
  },
  {
   "cell_type": "markdown",
   "id": "642b125a",
   "metadata": {},
   "source": [
    "# 1. Why program? Why Python?"
   ]
  },
  {
   "cell_type": "markdown",
   "id": "545e49c7",
   "metadata": {},
   "source": [
    "Programming while using scientific data is important as tasks can be done in an organised form, available to be repeated, reprogrammed and tailored for use. There are and have been many programming languages, but the advantages of using python are many. It is a simple, versatile, open source free language being used widely and hence a large number of libraries,  code and community support are available. Also high quality graphics can be easily created.  "
   ]
  },
  {
   "cell_type": "markdown",
   "id": "4244980c",
   "metadata": {},
   "source": [
    "Python is an interpreted high-level general-purpose programming language. Its design philosophy emphasizes code readability with its use of significant indentation. Its language constructs as well as its object-oriented approach aim to help programmers write clear, logical code for small and large-scale projects. \n",
    "First appeared: February 20, 1991; 30 years ago\n",
    "Designed by: Guido van Rossum\n",
    "OS: Windows, Linux/UNIX, macOS and more\n"
   ]
  },
  {
   "cell_type": "markdown",
   "id": "9a0741ff",
   "metadata": {},
   "source": [
    "The Jupyter Notebook (formerly IPython Notebooks) is a popular web-based interactive environment that was first started from the IPython project and is currently maintained by the nonprofit organization Project Jupyter. It’s a convenient tool to create and share documents that contain codes, equations, texts, and visualizations. A Jupyter Notebook can be easily converted to HTML, LaTeX, PDF, Markdown, Python, and other open standard formats"
   ]
  },
  {
   "cell_type": "markdown",
   "id": "1b0fef15",
   "metadata": {},
   "source": [
    "# 2. Installing Python - Anaconda Distribution"
   ]
  },
  {
   "cell_type": "code",
   "execution_count": 1,
   "id": "2a9f840b",
   "metadata": {},
   "outputs": [
    {
     "data": {
      "text/html": [
       "<div style=\"text-align:center;\">\n",
       "<iframe src=\"https://docs.conda.io/projects/conda/en/latest/user-guide/install/\" width=\"960\" height=\"540\"></iframe>\n",
       "</div>\n"
      ],
      "text/plain": [
       "<IPython.core.display.HTML object>"
      ]
     },
     "metadata": {},
     "output_type": "display_data"
    }
   ],
   "source": [
    "%%html\n",
    "<div style=\"text-align:center;\">\n",
    "<iframe src=\"https://docs.conda.io/projects/conda/en/latest/user-guide/install/\" width=\"960\" height=\"540\"></iframe>\n",
    "</div>"
   ]
  },
  {
   "cell_type": "markdown",
   "id": "ed88af67",
   "metadata": {},
   "source": [
    "# 3. Getting Started with Basic Python Commands, Syntax"
   ]
  },
  {
   "cell_type": "markdown",
   "id": "71a50ad3",
   "metadata": {},
   "source": [
    "## Simple Calculations"
   ]
  },
  {
   "cell_type": "code",
   "execution_count": 2,
   "id": "cd75c918",
   "metadata": {},
   "outputs": [
    {
     "name": "stdout",
     "output_type": "stream",
     "text": [
      "8\n"
     ]
    }
   ],
   "source": [
    "a=2\n",
    "b=6\n",
    "c=a+b\n",
    "print(c)"
   ]
  },
  {
   "cell_type": "code",
   "execution_count": 3,
   "id": "47f61133",
   "metadata": {},
   "outputs": [
    {
     "name": "stdout",
     "output_type": "stream",
     "text": [
      "8\n"
     ]
    }
   ],
   "source": [
    "c=2\n",
    "d=4\n",
    "e=c*d\n",
    "print(e)"
   ]
  },
  {
   "cell_type": "code",
   "execution_count": 4,
   "id": "af28da95",
   "metadata": {},
   "outputs": [
    {
     "name": "stdout",
     "output_type": "stream",
     "text": [
      "64\n"
     ]
    }
   ],
   "source": [
    "f=e**2\n",
    "print(f)"
   ]
  },
  {
   "cell_type": "code",
   "execution_count": 5,
   "id": "6d1205a7",
   "metadata": {},
   "outputs": [
    {
     "name": "stdout",
     "output_type": "stream",
     "text": [
      "2\n"
     ]
    }
   ],
   "source": [
    "print(a)"
   ]
  },
  {
   "cell_type": "code",
   "execution_count": 6,
   "id": "bf36c185",
   "metadata": {},
   "outputs": [
    {
     "data": {
      "text/plain": [
       "2"
      ]
     },
     "execution_count": 6,
     "metadata": {},
     "output_type": "execute_result"
    }
   ],
   "source": [
    "a"
   ]
  },
  {
   "cell_type": "code",
   "execution_count": 7,
   "id": "e6c28d9a",
   "metadata": {},
   "outputs": [
    {
     "data": {
      "text/plain": [
       "4"
      ]
     },
     "execution_count": 7,
     "metadata": {},
     "output_type": "execute_result"
    }
   ],
   "source": [
    "d"
   ]
  },
  {
   "cell_type": "code",
   "execution_count": 8,
   "id": "4dcc22c8",
   "metadata": {},
   "outputs": [
    {
     "name": "stdout",
     "output_type": "stream",
     "text": [
      "Sum=  10\n",
      "Difference=  4\n",
      "Division=  2.3333333333333335\n",
      "Multiplication=  21\n"
     ]
    }
   ],
   "source": [
    "a=7\n",
    "b=3\n",
    "print('Sum= ', a+b)\n",
    "print('Difference= ', a-b)\n",
    "print('Division= ', a/b)\n",
    "print('Multiplication= ',a*b)"
   ]
  },
  {
   "cell_type": "code",
   "execution_count": 3,
   "id": "62c73d62",
   "metadata": {},
   "outputs": [
    {
     "ename": "NameError",
     "evalue": "name 'a' is not defined",
     "output_type": "error",
     "traceback": [
      "\u001b[1;31m---------------------------------------------------------------------------\u001b[0m",
      "\u001b[1;31mNameError\u001b[0m                                 Traceback (most recent call last)",
      "Cell \u001b[1;32mIn[3], line 8\u001b[0m\n\u001b[0;32m      2\u001b[0m \u001b[38;5;124;03m'''\u001b[39;00m\n\u001b[0;32m      3\u001b[0m \u001b[38;5;124;03mTHis is also a comment\u001b[39;00m\n\u001b[0;32m      4\u001b[0m \u001b[38;5;124;03mThese are ignored by Python; They are not executed\u001b[39;00m\n\u001b[0;32m      5\u001b[0m \u001b[38;5;124;03m'''\u001b[39;00m\n\u001b[0;32m      7\u001b[0m \u001b[38;5;66;03m#Calculating remainder here\u001b[39;00m\n\u001b[1;32m----> 8\u001b[0m \u001b[38;5;28mprint\u001b[39m(\u001b[38;5;124m'\u001b[39m\u001b[38;5;124mRemainder= \u001b[39m\u001b[38;5;124m'\u001b[39m, \u001b[43ma\u001b[49m\u001b[38;5;241m%\u001b[39mb)\n",
      "\u001b[1;31mNameError\u001b[0m: name 'a' is not defined"
     ]
    }
   ],
   "source": [
    "#This is a comment\n",
    "'''\n",
    "THis is also a comment\n",
    "These are ignored by Python; They are not executed\n",
    "'''\n",
    "\n",
    "#Calculating remainder here\n",
    "print('Remainder= ', a%b)\n"
   ]
  },
  {
   "cell_type": "markdown",
   "id": "9cfd2797",
   "metadata": {},
   "source": [
    "## Data Types"
   ]
  },
  {
   "cell_type": "code",
   "execution_count": 10,
   "id": "c7133319",
   "metadata": {},
   "outputs": [],
   "source": [
    "y=2"
   ]
  },
  {
   "cell_type": "code",
   "execution_count": 11,
   "id": "e1a62b0a",
   "metadata": {},
   "outputs": [
    {
     "data": {
      "text/plain": [
       "2"
      ]
     },
     "execution_count": 11,
     "metadata": {},
     "output_type": "execute_result"
    }
   ],
   "source": [
    "y"
   ]
  },
  {
   "cell_type": "code",
   "execution_count": 12,
   "id": "28343649",
   "metadata": {},
   "outputs": [],
   "source": [
    "x=1.05"
   ]
  },
  {
   "cell_type": "code",
   "execution_count": 13,
   "id": "0c78701b",
   "metadata": {},
   "outputs": [
    {
     "data": {
      "text/plain": [
       "1.05"
      ]
     },
     "execution_count": 13,
     "metadata": {},
     "output_type": "execute_result"
    }
   ],
   "source": [
    "x"
   ]
  },
  {
   "cell_type": "code",
   "execution_count": 14,
   "id": "9dfee935",
   "metadata": {},
   "outputs": [],
   "source": [
    "# A string is a sequence of one or more characters (letters, numbers, symbols) that can be either a constant or a variable.\n",
    "st=\"This is a string\" #single, double quotes, immutable"
   ]
  },
  {
   "cell_type": "code",
   "execution_count": 15,
   "id": "c8aa9510",
   "metadata": {},
   "outputs": [
    {
     "data": {
      "text/plain": [
       "'This is a string'"
      ]
     },
     "execution_count": 15,
     "metadata": {},
     "output_type": "execute_result"
    }
   ],
   "source": [
    "st"
   ]
  },
  {
   "cell_type": "code",
   "execution_count": 16,
   "id": "e5cc5ba0",
   "metadata": {},
   "outputs": [
    {
     "name": "stdout",
     "output_type": "stream",
     "text": [
      "This is a stringThis is a stringThis is a stringThis is a stringThis is a stringThis is a stringThis is a stringThis is a stringThis is a string\n"
     ]
    }
   ],
   "source": [
    "print(st * 9)"
   ]
  },
  {
   "cell_type": "code",
   "execution_count": 17,
   "id": "796c5c86",
   "metadata": {},
   "outputs": [
    {
     "name": "stdout",
     "output_type": "stream",
     "text": [
      "THIS IS A STRING\n"
     ]
    }
   ],
   "source": [
    "print(st.upper())"
   ]
  },
  {
   "cell_type": "code",
   "execution_count": 18,
   "id": "e0c1eed0",
   "metadata": {},
   "outputs": [],
   "source": [
    "st2=\"\"\"Hi\"\"\""
   ]
  },
  {
   "cell_type": "code",
   "execution_count": 19,
   "id": "0989e1d5",
   "metadata": {},
   "outputs": [
    {
     "name": "stdout",
     "output_type": "stream",
     "text": [
      "Hi This is a string\n"
     ]
    }
   ],
   "source": [
    "print(st2 + \" \" + st)"
   ]
  },
  {
   "cell_type": "code",
   "execution_count": 20,
   "id": "d9ab4a53",
   "metadata": {},
   "outputs": [],
   "source": [
    "list1=[1,2,3,4,5] \n",
    "# A list is a mutable, or changeable, ordered sequence of elements. Each element or value that is inside of a list is called an item. Just as strings are\n",
    " \n",
    "#defined as characters between quotes, lists are defined by having values between square brackets [ ]."
   ]
  },
  {
   "cell_type": "code",
   "execution_count": null,
   "id": "f8bd789f",
   "metadata": {},
   "outputs": [],
   "source": [
    "name = input('Hi! What’s your name? ')\n",
    "print('Nice to meet you ' + name + '!')\n",
    "age = input('How old are you ')\n",
    "print('So, you are already ' + str(age) + ' years old, '\n",
    "+ name + '!')"
   ]
  },
  {
   "cell_type": "code",
   "execution_count": null,
   "id": "54a97645",
   "metadata": {},
   "outputs": [],
   "source": [
    "print(len(st))"
   ]
  },
  {
   "cell_type": "code",
   "execution_count": null,
   "id": "686ec004",
   "metadata": {},
   "outputs": [],
   "source": [
    "# str.join(), str.split(), and str.replace()\n",
    "balloon = \"Neha has a balloon.\"\n",
    "print(\" \".join(balloon))"
   ]
  },
  {
   "cell_type": "code",
   "execution_count": null,
   "id": "79e16388",
   "metadata": {},
   "outputs": [],
   "source": [
    "print(\"\".join(reversed(balloon)))"
   ]
  },
  {
   "cell_type": "code",
   "execution_count": null,
   "id": "6a372c09",
   "metadata": {},
   "outputs": [],
   "source": [
    "#Index\n",
    "ss = \"Python for Astronomy!\"\n",
    "print(ss[9])"
   ]
  },
  {
   "cell_type": "code",
   "execution_count": null,
   "id": "4aeb79a4",
   "metadata": {},
   "outputs": [],
   "source": [
    "print(ss[-3])"
   ]
  },
  {
   "cell_type": "code",
   "execution_count": null,
   "id": "d55907e4",
   "metadata": {},
   "outputs": [],
   "source": [
    "# Slicing Strings\n",
    "print(ss[6:11])\n"
   ]
  },
  {
   "cell_type": "code",
   "execution_count": null,
   "id": "29b9cb23",
   "metadata": {},
   "outputs": [],
   "source": [
    "print(ss[0:12:4])# stride of 4"
   ]
  },
  {
   "cell_type": "code",
   "execution_count": null,
   "id": "8359262f",
   "metadata": {},
   "outputs": [],
   "source": [
    "#print the original string in reverse order if we set the stride to -1:\n",
    "print(ss[::-1])"
   ]
  },
  {
   "cell_type": "code",
   "execution_count": null,
   "id": "58493f37",
   "metadata": {},
   "outputs": [],
   "source": [
    "print(len(ss))"
   ]
  },
  {
   "cell_type": "code",
   "execution_count": null,
   "id": "97dde675",
   "metadata": {},
   "outputs": [],
   "source": [
    "list2=[[2,1],[3,4], 2, \"test\", 3.4]"
   ]
  },
  {
   "cell_type": "code",
   "execution_count": null,
   "id": "a3584416",
   "metadata": {},
   "outputs": [],
   "source": [
    "list2"
   ]
  },
  {
   "cell_type": "code",
   "execution_count": null,
   "id": "a5ce63f3",
   "metadata": {},
   "outputs": [],
   "source": [
    "list1[0]"
   ]
  },
  {
   "cell_type": "code",
   "execution_count": null,
   "id": "08773794",
   "metadata": {},
   "outputs": [],
   "source": [
    "list2[1]"
   ]
  },
  {
   "cell_type": "code",
   "execution_count": null,
   "id": "f533ee81",
   "metadata": {},
   "outputs": [],
   "source": [
    "list2[4]"
   ]
  },
  {
   "cell_type": "code",
   "execution_count": null,
   "id": "c08e3c36",
   "metadata": {},
   "outputs": [],
   "source": [
    "type(a)"
   ]
  },
  {
   "cell_type": "code",
   "execution_count": null,
   "id": "ec0e9fc6",
   "metadata": {},
   "outputs": [],
   "source": [
    "type(list1)"
   ]
  },
  {
   "cell_type": "code",
   "execution_count": null,
   "id": "64e0698b",
   "metadata": {},
   "outputs": [],
   "source": [
    "type(st)"
   ]
  },
  {
   "cell_type": "code",
   "execution_count": null,
   "id": "e4bc760b",
   "metadata": {},
   "outputs": [],
   "source": [
    "type(list2[4])"
   ]
  },
  {
   "cell_type": "code",
   "execution_count": null,
   "id": "ee738b94",
   "metadata": {},
   "outputs": [],
   "source": [
    "type(list1[1:3])"
   ]
  },
  {
   "cell_type": "code",
   "execution_count": null,
   "id": "e3c1bf4f",
   "metadata": {},
   "outputs": [],
   "source": [
    "list1.append(6.8)"
   ]
  },
  {
   "cell_type": "code",
   "execution_count": null,
   "id": "0946936f",
   "metadata": {},
   "outputs": [],
   "source": [
    "list1"
   ]
  },
  {
   "cell_type": "code",
   "execution_count": null,
   "id": "fe148d21",
   "metadata": {},
   "outputs": [],
   "source": [
    "list1.reverse()"
   ]
  },
  {
   "cell_type": "code",
   "execution_count": null,
   "id": "2f67331e",
   "metadata": {},
   "outputs": [],
   "source": [
    "list1"
   ]
  },
  {
   "cell_type": "code",
   "execution_count": null,
   "id": "4b93575b",
   "metadata": {},
   "outputs": [],
   "source": [
    "# Tuples\n",
    "#A tuple is used for grouping data. It is an immutable, or unchangeable, ordered sequence of elements.\n",
    "#Tuples are very similar to lists, but they use parentheses ( ) instead of square brackets and because they are immutable their values cannot be modified.#"
   ]
  },
  {
   "cell_type": "code",
   "execution_count": null,
   "id": "bcee11bb",
   "metadata": {},
   "outputs": [],
   "source": [
    "coral = ('blue coral', 'staghorn coral', 'pillar coral')\n",
    "print(coral)"
   ]
  },
  {
   "cell_type": "code",
   "execution_count": null,
   "id": "bf5fb7f8",
   "metadata": {},
   "outputs": [],
   "source": [
    "# T h e dictionary is Python’s built-in mapping type. This means that dictionaries map keys to values and these key-value pairs are a useful way to store data in Python. A dictionary is constructed with curly braces on either side { }."
   ]
  },
  {
   "cell_type": "code",
   "execution_count": null,
   "id": "ce4d7767",
   "metadata": {},
   "outputs": [],
   "source": [
    "sammy = {'name': 'Sammy', 'animal': 'shark', 'color':'blue',  'location': 'ocean'}\n",
    "print(sammy)"
   ]
  },
  {
   "cell_type": "code",
   "execution_count": null,
   "id": "f70538db",
   "metadata": {},
   "outputs": [],
   "source": [
    "# The Boolean data type can be one of two values, either True or False. Booleans are used to represent the truth values that are associated with the logic branch of mathematics, which informs algorithms in computer science."
   ]
  },
  {
   "cell_type": "code",
   "execution_count": null,
   "id": "9006710e",
   "metadata": {},
   "outputs": [],
   "source": [
    "bool= 500 > 200\n",
    "print(bool)"
   ]
  },
  {
   "cell_type": "code",
   "execution_count": null,
   "id": "fad0d1ba",
   "metadata": {},
   "outputs": [],
   "source": [
    "bool2=100 > 200\n",
    "print(bool2)"
   ]
  },
  {
   "cell_type": "code",
   "execution_count": null,
   "id": "4992f977",
   "metadata": {},
   "outputs": [],
   "source": [
    "number = \"5\"\n",
    "letters = \"abcdef\"\n",
    "print(number.isnumeric())\n",
    "print(letters.isnumeric())"
   ]
  },
  {
   "cell_type": "markdown",
   "id": "26ebe3c0",
   "metadata": {},
   "source": [
    "## Convert Data Types"
   ]
  },
  {
   "cell_type": "code",
   "execution_count": null,
   "id": "1b401f4c",
   "metadata": {},
   "outputs": [],
   "source": [
    "float(57)"
   ]
  },
  {
   "cell_type": "code",
   "execution_count": null,
   "id": "dbbb331e",
   "metadata": {},
   "outputs": [],
   "source": [
    "int(390.8)"
   ]
  },
  {
   "cell_type": "code",
   "execution_count": null,
   "id": "18973654",
   "metadata": {},
   "outputs": [],
   "source": [
    "a=5/2 \n",
    "print(a)"
   ]
  },
  {
   "cell_type": "code",
   "execution_count": null,
   "id": "9d317652",
   "metadata": {},
   "outputs": [],
   "source": [
    "# In Python 2, since you were dealing with two integers, you would receive an integer back as your answer, instead: 5 / 2 = 2"
   ]
  },
  {
   "cell_type": "code",
   "execution_count": null,
   "id": "8f0ad418",
   "metadata": {},
   "outputs": [],
   "source": [
    "str(12)"
   ]
  },
  {
   "cell_type": "code",
   "execution_count": null,
   "id": "07e7b44d",
   "metadata": {},
   "outputs": [],
   "source": [
    "lines_yesterday = \"50\"\n",
    "lines_today = \"108\"\n",
    "lines_more = int(lines_today) - int(lines_yesterday)\n",
    "print(lines_more)"
   ]
  },
  {
   "cell_type": "code",
   "execution_count": null,
   "id": "b348a86f",
   "metadata": {},
   "outputs": [],
   "source": [
    "total_points = \"5524.53\"\n",
    "new_points = \"45.30\"\n",
    "new_total_points = float(total_points) + float(new_points)\n",
    "print(new_total_points)"
   ]
  },
  {
   "cell_type": "markdown",
   "id": "8cf1ce19",
   "metadata": {},
   "source": [
    "##### Converting to Tuples and Lists: list() and tuple()  In Python: - a list is a mutable ordered sequence of elements that is contained within square brackets [ ]. - a tuple is an immutable ordered sequence of elements contained within parentheses ( )"
   ]
  },
  {
   "cell_type": "code",
   "execution_count": null,
   "id": "87990550",
   "metadata": {},
   "outputs": [],
   "source": [
    "print(tuple(['pull request', 'open source','repository', 'branch']))"
   ]
  },
  {
   "cell_type": "code",
   "execution_count": null,
   "id": "30d4d1d4",
   "metadata": {},
   "outputs": [],
   "source": [
    "sea_creatures = ['shark', 'cuttlefish', 'squid','mantis shrimp']\n",
    "print(tuple(sea_creatures))"
   ]
  },
  {
   "cell_type": "code",
   "execution_count": null,
   "id": "b3e1d4a9",
   "metadata": {},
   "outputs": [],
   "source": [
    "##### Because we can iterate through strings, we can convert them to tuples with thetuple() method. With data types that are not iterable, however, like integers and floats, we will receive a type error:\n",
    "\n",
    "print(tuple(5000))\n"
   ]
  },
  {
   "cell_type": "code",
   "execution_count": null,
   "id": "f2d28630",
   "metadata": {},
   "outputs": [],
   "source": [
    "print(list(('blue coral', 'staghorn coral', 'pillar coral')))"
   ]
  },
  {
   "cell_type": "code",
   "execution_count": null,
   "id": "2c7c2869",
   "metadata": {},
   "outputs": [],
   "source": [
    "#Just like tuples, strings can be converted to lists:\n",
    "print(list('shark'))"
   ]
  },
  {
   "cell_type": "code",
   "execution_count": null,
   "id": "5140dee6",
   "metadata": {},
   "outputs": [],
   "source": [
    "my_string = 'Hello, World!'\n",
    "my_flt = 45.06\n",
    "my_bool = 5 > 9 #A Boolean value will return either\n",
    "True or False\n",
    "my_list = ['item_1', 'item_2', 'item_3', 'item_4']\n",
    "my_tuple = ('one', 'two', 'three')\n",
    "my_dict = {'letter': 'g', 'number': 'seven', 'symbol':'&'}"
   ]
  },
  {
   "cell_type": "markdown",
   "id": "e28de57b",
   "metadata": {},
   "source": [
    "## Variables"
   ]
  },
  {
   "cell_type": "markdown",
   "id": "2a02b4c2",
   "metadata": {},
   "source": [
    "Variable names must only be one word (as in no spaces)\\\n",
    "Variable names must be made up of only letters, numbers, and underscore (_)\\\n",
    "Variable names cannot begin with a number\n",
    "\n",
    "Chk these:\\\n",
    "my_int int4 MY_INT another_int valid\\\n",
    "my-int 4int $MY_INT another int invalid\\\n",
    "Hyphens are not permitted Cannot begin with a number Cannot use symbols other than _ Cannot be more than one word\\\n",
    "\n",
    "Global and Local Variables"
   ]
  },
  {
   "cell_type": "markdown",
   "id": "6a183b00",
   "metadata": {},
   "source": [
    "## Conditionals"
   ]
  },
  {
   "cell_type": "code",
   "execution_count": null,
   "id": "3979b738",
   "metadata": {},
   "outputs": [],
   "source": [
    "a=5"
   ]
  },
  {
   "cell_type": "code",
   "execution_count": null,
   "id": "b93b2aed",
   "metadata": {},
   "outputs": [],
   "source": [
    "x=5\n",
    "if x < 10:\n",
    "    y=x\n",
    "print(y)    "
   ]
  },
  {
   "cell_type": "code",
   "execution_count": null,
   "id": "7b23cd75",
   "metadata": {},
   "outputs": [],
   "source": [
    "if(a>2):\n",
    "    print('a is greater than 2')\n",
    "else:\n",
    "    print('a is not greater than 2')"
   ]
  },
  {
   "cell_type": "code",
   "execution_count": null,
   "id": "254435bd",
   "metadata": {},
   "outputs": [],
   "source": [
    "should_multiply=False"
   ]
  },
  {
   "cell_type": "code",
   "execution_count": null,
   "id": "b5ec5216",
   "metadata": {},
   "outputs": [],
   "source": [
    "b=2"
   ]
  },
  {
   "cell_type": "code",
   "execution_count": null,
   "id": "3562c909",
   "metadata": {},
   "outputs": [],
   "source": [
    "if(should_multiply == True):\n",
    "    c=a*b\n",
    "else:\n",
    "    c=a+b"
   ]
  },
  {
   "cell_type": "code",
   "execution_count": null,
   "id": "04683335",
   "metadata": {},
   "outputs": [],
   "source": [
    "c"
   ]
  },
  {
   "cell_type": "code",
   "execution_count": null,
   "id": "3354fa3c",
   "metadata": {},
   "outputs": [],
   "source": [
    "a = 985.5\n",
    "b = 115.25\n",
    "print(divmod(a,b))\n",
    "#8.0 is the floor quotient of 985.5 divided by 115.25, and 63.5 is the remainder"
   ]
  },
  {
   "cell_type": "markdown",
   "id": "852d362d",
   "metadata": {},
   "source": [
    "## Loops"
   ]
  },
  {
   "cell_type": "code",
   "execution_count": null,
   "id": "9d485ae7",
   "metadata": {},
   "outputs": [],
   "source": [
    "for i in range(3,13):\n",
    "    print(i, i*i, i*i*i)\n"
   ]
  },
  {
   "cell_type": "code",
   "execution_count": null,
   "id": "bc79f265",
   "metadata": {},
   "outputs": [],
   "source": [
    "for i in range(3,13):\n",
    "    print(\"{:3d} {:4d} {:5d}\".format(i, i*i, i*i*i))"
   ]
  },
  {
   "cell_type": "code",
   "execution_count": null,
   "id": "7553c12d",
   "metadata": {},
   "outputs": [],
   "source": [
    "for i in list1:\n",
    "    print(i+1)\n",
    "print('.')"
   ]
  },
  {
   "cell_type": "code",
   "execution_count": null,
   "id": "b719e54e",
   "metadata": {},
   "outputs": [],
   "source": [
    "list1"
   ]
  },
  {
   "cell_type": "code",
   "execution_count": null,
   "id": "b054cf55",
   "metadata": {},
   "outputs": [],
   "source": [
    "new_list=[]\n",
    "for i in list1:\n",
    "    new_list.append(i+1)"
   ]
  },
  {
   "cell_type": "code",
   "execution_count": null,
   "id": "c0891a0f",
   "metadata": {},
   "outputs": [],
   "source": [
    "list1"
   ]
  },
  {
   "cell_type": "markdown",
   "id": "11011d1b",
   "metadata": {},
   "source": [
    "## Formating"
   ]
  },
  {
   "cell_type": "code",
   "execution_count": null,
   "id": "82dedaa8",
   "metadata": {},
   "outputs": [],
   "source": [
    "print(\"Rupa has {} balloons.\".format(5))\n"
   ]
  },
  {
   "cell_type": "code",
   "execution_count": null,
   "id": "246bbc61",
   "metadata": {},
   "outputs": [],
   "source": [
    "open_string = \"Sammy loves {}.\"\n",
    "print(open_string.format(\"open source\"))"
   ]
  },
  {
   "cell_type": "code",
   "execution_count": null,
   "id": "9640a8b3",
   "metadata": {},
   "outputs": [],
   "source": [
    "#Eva ate 75.765367% of the pizza\n",
    "print(\"Sammy ate {0:.3f} percent of a pizza!\".format(75.765367))\n"
   ]
  },
  {
   "cell_type": "code",
   "execution_count": null,
   "id": "0cdba16b",
   "metadata": {},
   "outputs": [],
   "source": [
    "print(\"Sammy ate {0:.1f} percent of a pizza!\".format(75.765367))#try others"
   ]
  },
  {
   "cell_type": "code",
   "execution_count": null,
   "id": "fb75bac8",
   "metadata": {},
   "outputs": [],
   "source": [
    "print(\"Sammy ate {0:.0f} percent of a pizza!\".format(75.765367))\n",
    "#This will not convert your float to an integer, but instead limit the number of places shown after the decimal point."
   ]
  },
  {
   "cell_type": "markdown",
   "id": "ea16b902",
   "metadata": {},
   "source": [
    "## Functions"
   ]
  },
  {
   "cell_type": "code",
   "execution_count": null,
   "id": "14218b40",
   "metadata": {},
   "outputs": [],
   "source": [
    "def strange_function(a):\n",
    "    a=a*2\n",
    "    a=a-7\n",
    "    a=a/5\n",
    "    return a"
   ]
  },
  {
   "cell_type": "code",
   "execution_count": null,
   "id": "0c4da076",
   "metadata": {},
   "outputs": [],
   "source": [
    "strange_function(2)"
   ]
  },
  {
   "cell_type": "code",
   "execution_count": null,
   "id": "c169d6f5",
   "metadata": {},
   "outputs": [],
   "source": [
    "def raise_to_the_power_n_plus_1(a,n):\n",
    "    return a**(n+1)"
   ]
  },
  {
   "cell_type": "code",
   "execution_count": null,
   "id": "bda58562",
   "metadata": {},
   "outputs": [],
   "source": [
    "raise_to_the_power_n_plus_1(2,3)"
   ]
  },
  {
   "cell_type": "markdown",
   "id": "75b923ef",
   "metadata": {},
   "source": [
    "## Python Libraries"
   ]
  },
  {
   "cell_type": "markdown",
   "id": "91cd2333",
   "metadata": {},
   "source": [
    "Python has an abundance of additional libraries to augument the base framework. You can think of libraries as collections of functions that can be accessed to complete certain programming tasks\n",
    "\n",
    "Today, we will focus on the following libraries:\n",
    "\n",
    "Numpy is a library for working with arrays of data\n",
    "Scipy is a library of techniques for numerical and scientific computing\n",
    "Matplotlib is a library for making graphs\n",
    "Seaborn is a higher-level interface to Matplotlib that can be used simplify many tasks"
   ]
  },
  {
   "cell_type": "markdown",
   "id": "4d7e7ab8",
   "metadata": {},
   "source": [
    "Importing Libraries\n",
    "When using Python, you must always begin your script by importing the libraries that you will be using.\n",
    "\n",
    "Below, we import the numpy and matplotlib libraries and give them abbreviated names:"
   ]
  },
  {
   "cell_type": "code",
   "execution_count": null,
   "id": "a5ae3672",
   "metadata": {},
   "outputs": [],
   "source": [
    "import numpy as np\n",
    "from scipy import stats\n",
    "import matplotlib.pyplot as plt\n",
    "import seaborn as sns"
   ]
  },
  {
   "cell_type": "markdown",
   "id": "f2725450",
   "metadata": {},
   "source": [
    "After importing a library, its functions can then be called from your code by prepending the library name to the function name"
   ]
  },
  {
   "cell_type": "markdown",
   "id": "139452bd",
   "metadata": {},
   "source": [
    "### Numpy"
   ]
  },
  {
   "cell_type": "markdown",
   "id": "488f0f10",
   "metadata": {},
   "source": [
    "NumPy is the fundamental package for scientific computing with Python. Lets focus on the numpy array object"
   ]
  },
  {
   "cell_type": "code",
   "execution_count": null,
   "id": "a07226e9",
   "metadata": {},
   "outputs": [],
   "source": [
    "## make a 3x1 numpy array\n",
    "a = np.array([1, 2, 3])\n",
    "\n",
    "## print it out\n",
    "print(a)\n",
    "\n",
    "## print object type\n",
    "print(type(a))\n",
    "\n",
    "## print shape\n",
    "print(a.shape)\n",
    "\n",
    "## print some values\n",
    "print(a[0])\n",
    "print(a[2])"
   ]
  },
  {
   "cell_type": "code",
   "execution_count": null,
   "id": "acc451b1",
   "metadata": {},
   "outputs": [],
   "source": [
    "## make a 2x2 numpy array\n",
    "b = np.array([[1, 2], [3, 4]])\n",
    "\n",
    "## print it out\n",
    "print(b)\n",
    "\n",
    "## print out shape\n",
    "print(b.shape)\n",
    "\n",
    "## print row 1, column 1\n",
    "print(b[0,0])\n",
    "\n",
    "## print row 2, column 1\n",
    "print(b[1, 0])"
   ]
  },
  {
   "cell_type": "code",
   "execution_count": null,
   "id": "d8bbe217",
   "metadata": {},
   "outputs": [],
   "source": [
    "## make a 2x3 zero array\n",
    "c = np.zeros((2,3))\n",
    "\n",
    "## print out c\n",
    "print(c)\n",
    "\n",
    "## print out shape\n",
    "print(c.shape)"
   ]
  },
  {
   "cell_type": "code",
   "execution_count": null,
   "id": "7ab14203",
   "metadata": {},
   "outputs": [],
   "source": [
    "## make a 5x2 array of ones\n",
    "d =  np.ones((5,2))\n",
    "\n",
    "## print out d\n",
    "print(d)\n",
    "\n",
    "## print out row 3, column 2\n",
    "print(d[2, 1])\n",
    "\n",
    "## create a pointer to d called e\n",
    "e = d\n",
    "\n",
    "## print out e\n",
    "print(e)\n",
    "\n",
    "## multiple e by 2 and print out\n",
    "e *= 2\n",
    "print(e)\n",
    "\n",
    "## print out d\n",
    "print(d)"
   ]
  },
  {
   "cell_type": "code",
   "execution_count": null,
   "id": "033e87c4",
   "metadata": {},
   "outputs": [],
   "source": [
    "## create a 7x4 random array\n",
    "f = np.random.random((7,4))\n",
    "\n",
    "## print out f\n",
    "print(f)\n",
    "\n",
    "## find the mean of f\n",
    "np.mean(f)"
   ]
  },
  {
   "cell_type": "code",
   "execution_count": null,
   "id": "a4d02572",
   "metadata": {},
   "outputs": [],
   "source": [
    "## make a 3x4 array\n",
    "g = np.array([[1, 2, 3, 4], [5, 6, 7, 8], [9, 10, 11, 12]])\n",
    "\n",
    "## print out g\n",
    "print(g)\n",
    "\n",
    "## Slice array to make a 2x2 sub-array called h\n",
    "h = g[:2, 1:3]\n",
    "\n",
    "## print h\n",
    "print(h)"
   ]
  },
  {
   "cell_type": "markdown",
   "id": "3a2a17c1",
   "metadata": {},
   "source": [
    "## Array Math"
   ]
  },
  {
   "cell_type": "code",
   "execution_count": null,
   "id": "c832560e",
   "metadata": {},
   "outputs": [],
   "source": [
    "x = np.array([[1,2],[3,4]])\n",
    "y = np.array([[5,6], [7,8]])\n",
    "\n",
    "## Add x and y\n",
    "print(x+y)\n",
    "print(np.add(x,y))\n",
    "\n",
    "## Subtract x and y\n",
    "print(x-y)\n",
    "print(np.subtract(x,y))\n",
    "\n",
    "## elementwise product of x and y\n",
    "print(x*y)\n",
    "print(np.multiply(x,y))\n",
    "\n",
    "## elementwise division of x and y\n",
    "print(x / y)\n",
    "print(np.divide(x,y))\n",
    "\n",
    "## elementwise square root of x\n",
    "print(np.sqrt(x))"
   ]
  },
  {
   "cell_type": "code",
   "execution_count": null,
   "id": "b287b4ab",
   "metadata": {},
   "outputs": [],
   "source": [
    "## Compute sum of all elements in x\n",
    "print(np.sum(x))\n",
    "\n",
    "## Compute sum of each column.\n",
    "## axis = 0 will collaspe the rows\n",
    "print(np.sum(x, axis = 0))\n",
    "\n",
    "## Compute sume of each row\n",
    "## axis = 1 will collaspe the columns\n",
    "print(np.sum(x, axis = 1))\n"
   ]
  },
  {
   "cell_type": "code",
   "execution_count": null,
   "id": "b2113465",
   "metadata": {},
   "outputs": [],
   "source": [
    "## Compute mean of all elements in x\n",
    "print(np.mean(x))\n",
    "\n",
    "## Compute mean of each column of x\n",
    "print(np.mean(x, axis = 0))\n",
    "\n",
    "## Compute mean of each row of x\n",
    "print(np.mean(x, axis = 1))"
   ]
  },
  {
   "cell_type": "markdown",
   "id": "6d4ab878",
   "metadata": {},
   "source": [
    "## SciPy"
   ]
  },
  {
   "cell_type": "markdown",
   "id": "75889263",
   "metadata": {},
   "source": [
    "Numpy provides a high-performance multidimensional array and basic tools to compute with and manipulate these arrays. SciPy builds on this, and provides a large number of functions that operate on numpy arrays and are useful for different types of scientific and engineering applications.\n",
    "\n",
    "We will primariyl be using the SciPy.Stats sub-library.\n",
    "\n",
    "The SciPy.Stats module contains a large number of probability distributions as well as a growing library of statistical functions such as:\n",
    "\n",
    "Continuous and Discrete Distributions (i.e Normal, Uniform, Binomial, etc.)\n",
    "\n",
    "Descriptive Statistcs\n",
    "\n",
    "Statistical Tests (i.e T-Test)"
   ]
  },
  {
   "cell_type": "code",
   "execution_count": null,
   "id": "75672d71",
   "metadata": {},
   "outputs": [],
   "source": [
    "## Print Normal Random Variables\n",
    "print(stats.norm.rvs(size = 10))"
   ]
  },
  {
   "cell_type": "code",
   "execution_count": null,
   "id": "c275c718",
   "metadata": {},
   "outputs": [],
   "source": [
    "## Computer the Normal CDF of certain values\n",
    "print(stats.norm.cdf(np.array([-6, -3, -2, -1, 0, 1, 2, 3, 6])))"
   ]
  },
  {
   "cell_type": "markdown",
   "id": "f066df73",
   "metadata": {},
   "source": [
    "## Google Colab and JupyterLab"
   ]
  },
  {
   "cell_type": "markdown",
   "id": "ca9dd058",
   "metadata": {},
   "source": [
    "We can also make use of Jupyter Notebooks on the Cloud without installing anything on our local computers. For this, we can use the Google Colab or JupyterLab, which are both free services (upto certain computation and storage limits). We can also store our files for processing on these platforms. You will need a Google account to access and save our notebooks in Colab. We can also check out their guides for Google Colab to learn more about it.\n",
    "\n",
    "Google Colaboratory\n",
    "\n",
    "Jupyter Labs is a similar solution provided by Project Jupyter.\n",
    "\n",
    "Project Jupyter"
   ]
  },
  {
   "cell_type": "code",
   "execution_count": null,
   "id": "52b6a744",
   "metadata": {},
   "outputs": [],
   "source": []
  }
 ],
 "metadata": {
  "kernelspec": {
   "display_name": "Python 3 (ipykernel)",
   "language": "python",
   "name": "python3"
  },
  "language_info": {
   "codemirror_mode": {
    "name": "ipython",
    "version": 3
   },
   "file_extension": ".py",
   "mimetype": "text/x-python",
   "name": "python",
   "nbconvert_exporter": "python",
   "pygments_lexer": "ipython3",
   "version": "3.10.9"
  }
 },
 "nbformat": 4,
 "nbformat_minor": 5
}
